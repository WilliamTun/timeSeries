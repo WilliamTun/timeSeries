{
 "cells": [
  {
   "cell_type": "code",
   "execution_count": 79,
   "metadata": {},
   "outputs": [],
   "source": [
    "import matplotlib.pyplot as plt\n",
    "import seaborn as sns\n",
    "import pandas as pd\n",
    "%matplotlib inline\n",
    "import numpy as np\n",
    "from functools import reduce"
   ]
  },
  {
   "cell_type": "code",
   "execution_count": null,
   "metadata": {},
   "outputs": [],
   "source": [
    "# READ in csv file"
   ]
  },
  {
   "cell_type": "code",
   "execution_count": 80,
   "metadata": {},
   "outputs": [],
   "source": [
    "df = pd.read_csv('etc_orig.csv')  "
   ]
  },
  {
   "cell_type": "code",
   "execution_count": 81,
   "metadata": {},
   "outputs": [],
   "source": [
    "x = df.Date\n",
    "y = df.Open.values"
   ]
  },
  {
   "cell_type": "code",
   "execution_count": 56,
   "metadata": {},
   "outputs": [],
   "source": [
    "#plt.figure(figsize=(16, 10))\n",
    "#sns.lineplot(x = x, y = y, data = df)"
   ]
  },
  {
   "cell_type": "code",
   "execution_count": 83,
   "metadata": {},
   "outputs": [
    {
     "data": {
      "text/plain": [
       "<matplotlib.axes._subplots.AxesSubplot at 0x1a2b619160>"
      ]
     },
     "execution_count": 83,
     "metadata": {},
     "output_type": "execute_result"
    },
    {
     "data": {
      "image/png": "[encoded data removed]",
      "text/plain": [
       "<Figure size 432x288 with 1 Axes>"
      ]
     },
     "metadata": {
      "needs_background": "light"
     },
     "output_type": "display_data"
    }
   ],
   "source": [
    "sns.lineplot(x = x, y = y, data = df)"
   ]
  },
  {
   "cell_type": "code",
   "execution_count": 64,
   "metadata": {},
   "outputs": [],
   "source": [
    "def percentChange(startPoint,currentPoint):\n",
    "    return ((currentPoint-startPoint)/startPoint)*100.00"
   ]
  },
  {
   "cell_type": "code",
   "execution_count": 65,
   "metadata": {},
   "outputs": [],
   "source": [
    "def movingAverage(timeSeries, timeFrame): \n",
    "    return timeSeries.rolling(window=timeFrame).mean()"
   ]
  },
  {
   "cell_type": "code",
   "execution_count": 66,
   "metadata": {},
   "outputs": [],
   "source": [
    "ma3 = movingAverage(df.Open, 3)\n",
    "ma5 = movingAverage(df.Open, 5)"
   ]
  },
  {
   "cell_type": "code",
   "execution_count": 67,
   "metadata": {},
   "outputs": [],
   "source": [
    "tsLen = len(ma3)\n",
    "start = 10"
   ]
  },
  {
   "cell_type": "code",
   "execution_count": 68,
   "metadata": {},
   "outputs": [],
   "source": [
    "changeCollect = []\n",
    "outcomeCollectY1 = [] # average of 5-10 days in the future\n",
    "outcomeCollectY2 = [] # 8 + days\n",
    "outcomeCollectY3 = [] # binary\n",
    "outcomeCollectY4 = [] # multiclass "
   ]
  },
  {
   "cell_type": "code",
   "execution_count": 69,
   "metadata": {},
   "outputs": [],
   "source": [
    "while start < tsLen:\n",
    "    # get X variables\n",
    "    p1 = percentChange(ma3[start-10], ma3[start-9])\n",
    "    p2 = percentChange(ma3[start-10], ma3[start-8])\n",
    "    p3 = percentChange(ma3[start-10], ma3[start-7])\n",
    "    p4 = percentChange(ma3[start-10], ma3[start-6])\n",
    "    p5 = percentChange(ma3[start-10], ma3[start-5])\n",
    "    p6 = percentChange(ma3[start-10], ma3[start-4])\n",
    "    p7 = percentChange(ma3[start-10], ma3[start-3])\n",
    "    p8 = percentChange(ma3[start-10], ma3[start-2])\n",
    "    p9 = percentChange(ma3[start-10], ma3[start-1])\n",
    "    p10 = percentChange(ma3[start-10], ma3[start])\n",
    "    dataPoints = [p1, p2, p3, p4, p5, p6, p7, p8, p9, p10]\n",
    "    changeCollect.append(dataPoints)\n",
    "    \n",
    "    # get Y variable\n",
    "    # current point\n",
    "    currentPoint = ma3[start]\n",
    "    \n",
    "    # get Y variable 1. Average in 5-10 days time\n",
    "    outcomeRange = ma3[start+5:start+10]\n",
    "    outcomeRange = outcomeRange[~np.isnan(outcomeRange)]\n",
    "    try:\n",
    "        avgOutcome = reduce(lambda x, y: x + y, outcomeRange) / len(outcomeRange)\n",
    "    except:\n",
    "        avgOutcome = 0\n",
    "    \n",
    "    # get Y variable 2. Price in 8 days time\n",
    "    try:\n",
    "        outcome8day = ma3[start+8]\n",
    "    except:\n",
    "        outcome8day = 0\n",
    "\n",
    "    futureOutcomeY1 = percentChange(currentPoint, avgOutcome)\n",
    "    futureOutcomeY2 = percentChange(currentPoint, outcome8day)\n",
    "    \n",
    "    # get Y variable 3. Binary classification\n",
    "    if futureOutcomeY2 >= 0:\n",
    "        futureOutcomeY3 = 1\n",
    "    else:\n",
    "        futureOutcomeY3 = 0\n",
    "        \n",
    "    # get Y variable 4. Multi-class classification\n",
    "    if futureOutcomeY2 < -18.0:\n",
    "        futureOutcomeY4 = 0\n",
    "    elif futureOutcomeY2 > -18.0 and futureOutcomeY2 < -10:\n",
    "        futureOutcomeY4 = 1\n",
    "    elif futureOutcomeY2 > -10.0 and futureOutcomeY2 < -5:\n",
    "        futureOutcomeY4 = 2\n",
    "    elif futureOutcomeY2 > -5.0 and futureOutcomeY2 < -2.5:\n",
    "        futureOutcomeY4 = 3\n",
    "    elif futureOutcomeY2 > -2.5 and futureOutcomeY2 < 0:\n",
    "        futureOutcomeY4 = 5\n",
    "    elif futureOutcomeY2 > 0 and futureOutcomeY2 < -2.5:\n",
    "        futureOutcomeY4 = 6\n",
    "    elif futureOutcomeY2 > 2.5 and futureOutcomeY2 < 5:\n",
    "        futureOutcomeY4 = 7\n",
    "    elif futureOutcomeY2 > 5 and futureOutcomeY2 < 10:\n",
    "        futureOutcomeY4 = 8\n",
    "    elif futureOutcomeY2 > 10 and futureOutcomeY2 < 18:\n",
    "        futureOutcomeY4 = 9\n",
    "    else:\n",
    "        futureOutcomeY4 = 10\n",
    "    \n",
    "    # collect data\n",
    "    outcomeCollectY1.append(futureOutcomeY1)\n",
    "    outcomeCollectY2.append(futureOutcomeY2)\n",
    "    outcomeCollectY3.append(futureOutcomeY3)\n",
    "    outcomeCollectY4.append(futureOutcomeY4)\n",
    "    \n",
    "    start+=1"
   ]
  },
  {
   "cell_type": "markdown",
   "metadata": {},
   "source": [
    "# Distribution of percentage increases per 8 days"
   ]
  },
  {
   "cell_type": "code",
   "execution_count": 70,
   "metadata": {},
   "outputs": [
    {
     "data": {
      "text/plain": [
       "<matplotlib.axes._subplots.AxesSubplot at 0x1a2b512668>"
      ]
     },
     "execution_count": 70,
     "metadata": {},
     "output_type": "execute_result"
    },
    {
     "data": {
      "image/png": "[encoded data removed]",
      "text/plain": [
       "<Figure size 1152x432 with 1 Axes>"
      ]
     },
     "metadata": {
      "needs_background": "light"
     },
     "output_type": "display_data"
    }
   ],
   "source": [
    "plt.figure(figsize=(16, 6))\n",
    "sns.distplot(outcomeCollectY2)"
   ]
  },
  {
   "cell_type": "code",
   "execution_count": 71,
   "metadata": {},
   "outputs": [
    {
     "name": "stdout",
     "output_type": "stream",
     "text": [
      "percentile: 10 value: -18.372211421233406\n",
      "percentile: 20 value: -9.82191756258528\n",
      "percentile: 30 value: -5.29822997371058\n",
      "percentile: 40 value: -2.280798300013751\n",
      "percentile: 50 value: 0.666159418639458\n",
      "percentile: 60 value: 2.981423963278512\n",
      "percentile: 70 value: 5.9478553963852985\n",
      "percentile: 80 value: 10.214306987934538\n",
      "percentile: 90 value: 18.138906067038832\n"
     ]
    }
   ],
   "source": [
    "for i in [10, 20, 30, 40, 50, 60, 70, 80, 90]:\n",
    "    per = np.percentile(outcomeCollectY2, i)\n",
    "    print(\"percentile: \" + str(i) + \" value: \" + str(per))"
   ]
  },
  {
   "cell_type": "code",
   "execution_count": 18,
   "metadata": {},
   "outputs": [],
   "source": [
    "data = [changeCollect, outcomeCollectY1, outcomeCollectY2, outcomeCollectY3, outcomeCollectY4] "
   ]
  },
  {
   "cell_type": "code",
   "execution_count": 19,
   "metadata": {},
   "outputs": [
    {
     "name": "stdout",
     "output_type": "stream",
     "text": [
      "1615\n",
      "1615\n",
      "1615\n",
      "1615\n",
      "1615\n"
     ]
    }
   ],
   "source": [
    "for i in data:\n",
    "    print(len(i))"
   ]
  },
  {
   "cell_type": "markdown",
   "metadata": {},
   "source": [
    "# Model time"
   ]
  },
  {
   "cell_type": "code",
   "execution_count": 26,
   "metadata": {},
   "outputs": [],
   "source": [
    "X = changeCollect[2:]\n",
    "Y = outcomeCollectY3[2:]"
   ]
  },
  {
   "cell_type": "code",
   "execution_count": 27,
   "metadata": {},
   "outputs": [
    {
     "data": {
      "text/plain": [
       "1613"
      ]
     },
     "execution_count": 27,
     "metadata": {},
     "output_type": "execute_result"
    }
   ],
   "source": [
    "len(x_features)"
   ]
  },
  {
   "cell_type": "code",
   "execution_count": 90,
   "metadata": {},
   "outputs": [],
   "source": [
    "from sklearn.model_selection import train_test_split"
   ]
  },
  {
   "cell_type": "code",
   "execution_count": 107,
   "metadata": {},
   "outputs": [],
   "source": [
    "window_size = 100\n",
    "splits = []\n",
    "\n",
    "for i in range(window_size, len(X), 25):\n",
    "    feature_chunks = np.array(X[i-window_size:i])\n",
    "    pred_chunks = np.array(Y[i-window_size:i])\n",
    "    X_train, X_test, y_train, y_test = train_test_split(feature_chunks, pred_chunks, test_size=0.33, shuffle=False)\n",
    "    splits.append(('X_train:', X_train,'y_train:', y_train,'X_test:', X_test, 'y_test:', y_test))"
   ]
  },
  {
   "cell_type": "code",
   "execution_count": 108,
   "metadata": {},
   "outputs": [
    {
     "data": {
      "text/plain": [
       "61"
      ]
     },
     "execution_count": 108,
     "metadata": {},
     "output_type": "execute_result"
    }
   ],
   "source": [
    "len(splits)"
   ]
  },
  {
   "cell_type": "code",
   "execution_count": 134,
   "metadata": {},
   "outputs": [],
   "source": [
    "# Fit model\n",
    "from sklearn.linear_model import LogisticRegression\n",
    "from sklearn.metrics import accuracy_score\n",
    "\n",
    "\n",
    "def fitModel(mod, X, y):\n",
    "    mod = mod.fit(X, y)\n",
    "    return mod\n",
    "\n",
    "def predict(mod, X_test):\n",
    "    preds = mod.predict_proba(X_test)\n",
    "    return preds\n",
    "\n",
    "def convertToBinary(predicted):\n",
    "    bin_pred = []\n",
    "    for row in predicted:\n",
    "        if row[0] > 0.5: \n",
    "            res = 0\n",
    "        else:\n",
    "            res = 1\n",
    "        bin_pred.append(res)\n",
    "    return(bin_pred)\n",
    "\n",
    "def acc(y_true, y_pred):\n",
    "    accuracy = accuracy_score(y_true, y_pred)\n",
    "    return accuracy"
   ]
  },
  {
   "cell_type": "code",
   "execution_count": 138,
   "metadata": {},
   "outputs": [],
   "source": [
    "clf = LogisticRegression(random_state=0)"
   ]
  },
  {
   "cell_type": "code",
   "execution_count": 141,
   "metadata": {},
   "outputs": [
    {
     "name": "stderr",
     "output_type": "stream",
     "text": [
      "/anaconda3/envs/trading/lib/python3.8/site-packages/sklearn/linear_model/_logistic.py:762: ConvergenceWarning: lbfgs failed to converge (status=1):\n",
      "STOP: TOTAL NO. of ITERATIONS REACHED LIMIT.\n",
      "\n",
      "Increase the number of iterations (max_iter) or scale the data as shown in:\n",
      "    https://scikit-learn.org/stable/modules/preprocessing.html\n",
      "Please also refer to the documentation for alternative solver options:\n",
      "    https://scikit-learn.org/stable/modules/linear_model.html#logistic-regression\n",
      "  n_iter_i = _check_optimize_result(\n",
      "/anaconda3/envs/trading/lib/python3.8/site-packages/sklearn/linear_model/_logistic.py:762: ConvergenceWarning: lbfgs failed to converge (status=1):\n",
      "STOP: TOTAL NO. of ITERATIONS REACHED LIMIT.\n",
      "\n",
      "Increase the number of iterations (max_iter) or scale the data as shown in:\n",
      "    https://scikit-learn.org/stable/modules/preprocessing.html\n",
      "Please also refer to the documentation for alternative solver options:\n",
      "    https://scikit-learn.org/stable/modules/linear_model.html#logistic-regression\n",
      "  n_iter_i = _check_optimize_result(\n",
      "/anaconda3/envs/trading/lib/python3.8/site-packages/sklearn/linear_model/_logistic.py:762: ConvergenceWarning: lbfgs failed to converge (status=1):\n",
      "STOP: TOTAL NO. of ITERATIONS REACHED LIMIT.\n",
      "\n",
      "Increase the number of iterations (max_iter) or scale the data as shown in:\n",
      "    https://scikit-learn.org/stable/modules/preprocessing.html\n",
      "Please also refer to the documentation for alternative solver options:\n",
      "    https://scikit-learn.org/stable/modules/linear_model.html#logistic-regression\n",
      "  n_iter_i = _check_optimize_result(\n"
     ]
    }
   ],
   "source": [
    "acc_all = []\n",
    "# View result\n",
    "for a_tuple in splits:\n",
    "    xtrain = a_tuple[1]\n",
    "    ytrain = a_tuple[3]\n",
    "    xtest = a_tuple[5]\n",
    "    ytest = a_tuple[7]\n",
    "    clf = fitModel(clf, xtrain, ytrain)\n",
    "    predd = predict(clf, xtest)\n",
    "    bin_predd = convertToBinary(predd)\n",
    "    accc = acc(ytest, bin_predd)\n",
    "    acc_all.append(accc)"
   ]
  },
  {
   "cell_type": "code",
   "execution_count": 142,
   "metadata": {},
   "outputs": [
    {
     "data": {
      "text/plain": [
       "0.5181321410829607"
      ]
     },
     "execution_count": 142,
     "metadata": {},
     "output_type": "execute_result"
    }
   ],
   "source": [
    "# Average Accuracy\n",
    "sum(acc_all)/len(acc_all)"
   ]
  },
  {
   "cell_type": "code",
   "execution_count": null,
   "metadata": {},
   "outputs": [],
   "source": []
  },
  {
   "cell_type": "code",
   "execution_count": null,
   "metadata": {},
   "outputs": [],
   "source": []
  },
  {
   "cell_type": "code",
   "execution_count": null,
   "metadata": {},
   "outputs": [],
   "source": []
  }
 ],
 "metadata": {
  "kernelspec": {
   "display_name": "Python 3",
   "language": "python",
   "name": "python3"
  },
  "language_info": {
   "codemirror_mode": {
    "name": "ipython",
    "version": 3
   },
   "file_extension": ".py",
   "mimetype": "text/x-python",
   "name": "python",
   "nbconvert_exporter": "python",
   "pygments_lexer": "ipython3",
   "version": "3.7.3"
  }
 },
 "nbformat": 4,
 "nbformat_minor": 4
}
